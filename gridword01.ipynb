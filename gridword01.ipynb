{
 "cells": [
  {
   "cell_type": "markdown",
   "id": "5fb97663-c8b9-4ed6-89ba-4dbfbaea66ce",
   "metadata": {},
   "source": [
    "# Gridworld + CNN + Target network + experience replay"
   ]
  },
  {
   "cell_type": "code",
   "execution_count": 12,
   "id": "0e118949-29ad-409d-9ea3-f75f574a3e24",
   "metadata": {},
   "outputs": [],
   "source": [
    "%reset -f\n",
    "import numpy as np\n",
    "import torch\n",
    "from Gridworld import Gridworld\n",
    "from IPython.display import clear_output\n",
    "import random\n",
    "import matplotlib.pylab as plt\n",
    "import copy"
   ]
  },
  {
   "cell_type": "code",
   "execution_count": 13,
   "id": "bc2e4313-17d1-42b3-af33-21b08c5c1c5a",
   "metadata": {},
   "outputs": [],
   "source": [
    "gridSize = 6\n",
    "game = Gridworld(size=gridSize, mode='random')"
   ]
  },
  {
   "cell_type": "code",
   "execution_count": 14,
   "id": "f95c2722-706e-40ba-be3b-a7df86dec205",
   "metadata": {},
   "outputs": [
    {
     "name": "stdout",
     "output_type": "stream",
     "text": [
      "torch.Size([4, 6, 6])\n"
     ]
    },
    {
     "data": {
      "text/plain": [
       "torch.Size([4])"
      ]
     },
     "execution_count": 14,
     "metadata": {},
     "output_type": "execute_result"
    }
   ],
   "source": [
    "state_ = game.board.render_np()\n",
    "state_ = torch.from_numpy(state_).float()#.reshape(4,4,4)\n",
    "\n",
    "import torch.nn as nn\n",
    "import torch.nn.functional as F\n",
    "model =nn.Sequential(\n",
    "    nn.Conv2d(4,12,kernel_size=1,stride= 1,padding=1),\n",
    "    nn.ReLU(),\n",
    "    nn.Conv2d(12,24,kernel_size=3,stride=1,padding=1),\n",
    "    nn.ReLU(),\n",
    "    nn.Flatten(start_dim=-3,end_dim=-1),\n",
    "    nn.Linear(1536,300),\n",
    "    nn.ReLU(),\n",
    "    nn.Linear(300,64),\n",
    "    nn.ReLU(),\n",
    "    nn.Linear(64,32),\n",
    "    nn.ReLU(),\n",
    "    nn.Linear(32,8),\n",
    "    nn.ReLU(),\n",
    "    nn.Linear(8,4),\n",
    ")\n",
    "print(state_.shape)\n",
    "model(state_).shape\n"
   ]
  },
  {
   "cell_type": "code",
   "execution_count": 15,
   "id": "f89a1277-9132-4ecd-ac2b-df3d90130c5b",
   "metadata": {},
   "outputs": [],
   "source": [
    "model2 = copy.deepcopy(model)\n",
    "model2.load_state_dict(model.state_dict())\n",
    "\n",
    "loss_fn = torch.nn.MSELoss()\n",
    "learning_rate = 1e-3\n",
    "optimizer = torch.optim.Adam(model.parameters(), lr=learning_rate)\n",
    "\n",
    "gamma = 0.9\n",
    "epsilon = 0.3\n",
    "\n",
    "action_set = { 0: 'u', 1: 'd', 2: 'l', 3: 'r'}"
   ]
  },
  {
   "cell_type": "markdown",
   "id": "836d0b53-1143-4d4f-a6c1-929afbe9e254",
   "metadata": {},
   "source": [
    "## Train if not trained already"
   ]
  },
  {
   "cell_type": "code",
   "execution_count": null,
   "id": "40137372-b224-465a-973e-5c612386caeb",
   "metadata": {},
   "outputs": [],
   "source": [
    "from collections import deque\n",
    "import sys\n",
    "\n",
    "epochs = 10000\n",
    "losses = []\n",
    "mem_size = 1000\n",
    "batch_size = 200\n",
    "replay = deque(maxlen=mem_size)\n",
    "max_moves = 50\n",
    "h = 0\n",
    "sync_freq = 500\n",
    "j = 0\n",
    "\n",
    "for i in range(epochs):\n",
    "    game = Gridworld(size=gridSize,mode='random')\n",
    "    state1_ = game.board.render_np() + np.random.rand(4,gridSize,gridSize)/100.0\n",
    "    state1 = torch.from_numpy(state1_).float()\n",
    "    status = 1\n",
    "    mov = 0\n",
    "    while (status == 1):\n",
    "        j += 1\n",
    "        mov += 1\n",
    "        qval = model(state1)\n",
    "        qval_ = qval.data.numpy()\n",
    "        action_ = np.argmax(qval_) if random.random() < epsilon else np.random.randint(0,4)\n",
    "        action = action_set[action_]\n",
    "        game.makeMove(action)\n",
    "        state2_ = game.board.render_np() + np.random.rand(4,gridSize,gridSize)/100.0\n",
    "        state2 = torch.from_numpy(state2_).float()\n",
    "        reward = game.reward()\n",
    "        done = True if reward > 0 else False\n",
    "        exp = (state1, action_, reward, state2, done)\n",
    "        replay.append(exp)\n",
    "        state1 = state2\n",
    "        \n",
    "        if len(replay) > batch_size:\n",
    "            minibatch = random.sample(replay, batch_size)\n",
    "            state1_batch = torch.stack([s1 for (s1,a,r,s2,d) in minibatch])\n",
    "            action_batch = torch.Tensor([a for (s1,a,r,s2,d) in minibatch])\n",
    "            reward_batch = torch.Tensor([r for (s1,a,r,s2,d) in minibatch])\n",
    "            state2_batch = torch.stack([s2 for (s1,a,r,s2,d) in minibatch])\n",
    "            done_batch = torch.Tensor([d for (s1,a,r,s2,d) in minibatch])  \n",
    "            Q1 = model(state1_batch)\n",
    "            with torch.no_grad():\n",
    "                Q2 = model2(state2_batch)\n",
    "            Y = reward_batch + gamma*((1-done_batch)*torch.max(Q2,dim=1)[0])\n",
    "            X = Q1.gather(dim=1, index=action_batch.long().unsqueeze(dim=1)).squeeze()\n",
    "            loss = loss_fn(X,Y.detach())\n",
    "            print(i,loss.item())\n",
    "            clear_output(wait=True)\n",
    "            optimizer.zero_grad()\n",
    "            loss.backward()\n",
    "            losses.append(loss.item())\n",
    "            optimizer.step()      \n",
    "        \n",
    "        \n",
    "            if j % sync_freq == 0:\n",
    "                model2.load_state_dict(model.state_dict())\n",
    "        if reward != -1 or mov > max_moves:\n",
    "            status = 0\n",
    "            mov = 0\n",
    "losses = np.array(losses)\n",
    "print(\"done\")\n"
   ]
  },
  {
   "cell_type": "code",
   "execution_count": null,
   "id": "c17a9762-f8cb-417a-a8b6-54ca1a54d077",
   "metadata": {},
   "outputs": [],
   "source": [
    "plt.figure(figsize=(10,7))\n",
    "#plt.plot(losses)\n",
    "plt.plot([np.mean(losses[i:i+500]) for i in range(len(losses))])\n",
    "plt.xlabel(\"Epochs\",fontsize=22)\n",
    "plt.ylabel(\"Loss\",fontsize=22)"
   ]
  },
  {
   "cell_type": "code",
   "execution_count": 19,
   "id": "58f30e5d-6261-47be-a65a-25ecaac4bdb3",
   "metadata": {},
   "outputs": [],
   "source": [
    "# save trained model\n",
    "#torch.save(model, 'model.pth')"
   ]
  },
  {
   "cell_type": "markdown",
   "id": "8aaa9846-61cf-4106-8ee0-89e6fa8b5afc",
   "metadata": {},
   "source": [
    "## Load pretrained model"
   ]
  },
  {
   "cell_type": "code",
   "execution_count": 16,
   "id": "3f792cc1-97d8-4356-a945-4292a4532a3f",
   "metadata": {},
   "outputs": [],
   "source": [
    "model = torch.load('savedModels/model_gridworld_6x6.pth')"
   ]
  },
  {
   "cell_type": "code",
   "execution_count": 17,
   "id": "ab6776c9-084e-46d3-b83a-3735b0eda087",
   "metadata": {},
   "outputs": [],
   "source": [
    "def test_model(model, mode='static', display=True):\n",
    "    i = 0\n",
    "    test_game = Gridworld(size=gridSize , mode=mode)\n",
    "    state_ = game.board.render_np() + np.random.rand(4,gridSize,gridSize)/100.0\n",
    "    state = torch.from_numpy(state_).float()\n",
    "    if display:\n",
    "        print(\"Initial State:\")\n",
    "        print(test_game.display())\n",
    "    status = 1\n",
    "    while(status == 1): #A\n",
    "        qval = model(state)\n",
    "        qval_ = qval.data.numpy()\n",
    "        action_ = np.argmax(qval_) #B\n",
    "        action = action_set[action_]\n",
    "        if display:\n",
    "            print('Move #: %s; Taking action: %s' % (i, action))\n",
    "        test_game.makeMove(action)\n",
    "        state_ = test_game.board.render_np() + np.random.rand(4,gridSize,gridSize)/100.0\n",
    "        state = torch.from_numpy(state_).float()\n",
    "        if display:\n",
    "            print(test_game.display())\n",
    "        reward = test_game.reward()\n",
    "        if reward != -1:\n",
    "            if reward > 0:\n",
    "                status = 2\n",
    "                if display:\n",
    "                    print(\"Game won! Reward: %s\" % (reward,))\n",
    "            else:\n",
    "                status = 0\n",
    "                if display:\n",
    "                    print(\"Game LOST. Reward: %s\" % (reward,))\n",
    "        i += 1\n",
    "        if (i > 15):\n",
    "            if display:\n",
    "                print(\"Game lost; too many moves.\")\n",
    "            break\n",
    "    \n",
    "    win = True if status == 2 else False\n",
    "    return win"
   ]
  },
  {
   "cell_type": "code",
   "execution_count": 18,
   "id": "b24c911d-8477-423e-91f4-cd86923c6783",
   "metadata": {},
   "outputs": [
    {
     "name": "stdout",
     "output_type": "stream",
     "text": [
      "Games played: 1000, # of wins: 856\n",
      "Win percentage: 85.6%\n"
     ]
    }
   ],
   "source": [
    "max_games = 1000\n",
    "wins = 0\n",
    "for i in range(max_games):\n",
    "    win = test_model(model, mode='random', display=False)\n",
    "    if win:\n",
    "        wins += 1\n",
    "win_perc = float(wins) / float(max_games)\n",
    "print(\"Games played: {0}, # of wins: {1}\".format(max_games,wins))\n",
    "print(\"Win percentage: {}%\".format(100.0*win_perc))"
   ]
  },
  {
   "cell_type": "code",
   "execution_count": 56,
   "id": "f5c5a08b-3d8e-45ea-a544-d3b1b7515c4b",
   "metadata": {},
   "outputs": [
    {
     "name": "stdout",
     "output_type": "stream",
     "text": [
      "game: 29 , move:  51 , won:  27 ,lost: 2\n",
      "[[' ' ' ' ' ' ' ' ' ' ' ']\n",
      " [' ' ' ' 'P' ' ' ' ' ' ']\n",
      " [' ' ' ' 'W' ' ' ' ' ' ']\n",
      " [' ' ' ' ' ' ' ' ' ' ' ']\n",
      " [' ' ' ' ' ' ' ' ' ' '+']\n",
      " ['-' ' ' ' ' ' ' ' ' ' ']]\n"
     ]
    }
   ],
   "source": [
    "# lets play\n",
    "import time\n",
    "won = 0\n",
    "lost = 0\n",
    "for iii in range(30):\n",
    "    game = Gridworld(size=gridSize, mode='random') #C\n",
    "    state_ = game.board.render_np() + np.random.rand(4,gridSize,gridSize)/100.0\n",
    "    state1 = torch.from_numpy(state_).float()\n",
    "    status = 1 #F\n",
    "    i = 0\n",
    "    while(status == 1): #G\n",
    "    #for j in range(1):\n",
    "        i += 1\n",
    "        print(\"game:\", iii, \", move: \", i, \", won: \", won, \",lost:\", lost)\n",
    "        qval = model(state1) #H\n",
    "        qval_ = qval.data.numpy()\n",
    "        action_ = np.argmax(qval_)\n",
    "        action = action_set[action_] #J\n",
    "\n",
    "        game.makeMove(action) #K\n",
    "        reward = game.reward()\n",
    "        print(game.display())\n",
    "        time.sleep(0.1)\n",
    "        if i > 50:\n",
    "            reward = -10\n",
    "        if reward != -1: #Q\n",
    "            status = 0\n",
    "            if reward == 10:\n",
    "                won += 1\n",
    "            else:\n",
    "                lost +=1 \n",
    "        clear_output(wait=True)\n",
    "        state_ = game.board.render_np() + np.random.rand(4,gridSize,gridSize)/100.0\n",
    "        state1 = torch.from_numpy(state_).float()"
   ]
  },
  {
   "cell_type": "code",
   "execution_count": 32,
   "id": "57f0fbc2-cea3-43c9-bcad-052344a6974c",
   "metadata": {},
   "outputs": [],
   "source": [
    "# save this model and put it on githubreward"
   ]
  },
  {
   "cell_type": "code",
   "execution_count": 59,
   "id": "36d6aee6-5242-43d9-a16a-2eb684c96f34",
   "metadata": {},
   "outputs": [],
   "source": [
    "#torch.save(model, 'model.pth')"
   ]
  }
 ],
 "metadata": {
  "kernelspec": {
   "display_name": "Python 3 (ipykernel)",
   "language": "python",
   "name": "python3"
  },
  "language_info": {
   "codemirror_mode": {
    "name": "ipython",
    "version": 3
   },
   "file_extension": ".py",
   "mimetype": "text/x-python",
   "name": "python",
   "nbconvert_exporter": "python",
   "pygments_lexer": "ipython3",
   "version": "3.10.4"
  }
 },
 "nbformat": 4,
 "nbformat_minor": 5
}
